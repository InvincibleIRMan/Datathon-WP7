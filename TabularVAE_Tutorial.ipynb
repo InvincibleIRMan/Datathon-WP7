{
 "cells": [
  {
   "cell_type": "markdown",
   "id": "afdc21f1",
   "metadata": {},
   "source": [
    "# Tabular Variational Autoencoder\n",
    "This simple tutorial shows how to train a Variational Autoencoder (VAE) on a small table and generate synthetic rows. It's designed for a non-technical audience, so follow along step by step."
   ]
  },
  {
   "cell_type": "markdown",
   "id": "10eb885b",
   "metadata": {},
   "source": [
    "## 1. Setup\n",
    "Run the cell below to install the required libraries. If you're running in an environment that already has them, this step will finish quickly."
   ]
  },
  {
   "cell_type": "code",
   "execution_count": 1,
   "id": "b59f181b",
   "metadata": {
    "execution": {
     "iopub.execute_input": "2025-09-10T14:25:23.349190Z",
     "iopub.status.busy": "2025-09-10T14:25:23.348875Z",
     "iopub.status.idle": "2025-09-10T14:25:25.038886Z",
     "shell.execute_reply": "2025-09-10T14:25:25.035828Z"
    }
   },
   "outputs": [
    {
     "name": "stdout",
     "output_type": "stream",
     "text": [
      "Note: you may need to restart the kernel to use updated packages.\n",
      "Note: you may need to restart the kernel to use updated packages.\n"
     ]
    }
   ],
   "source": [
    "%pip install torch pandas scikit-learn --quiet\n",
    "%pip install seaborn  --quiet"
   ]
  },
  {
   "cell_type": "markdown",
   "id": "49b67269",
   "metadata": {},
   "source": [
    "## 2. Load a sample dataset\n",
    "We'll use the classic Iris flower dataset that comes with scikit-learn.\n",
    "\n",
    "\n",
    "What is the Iris Dataset:\n",
    "\n",
    "- Collected by Edgar Anderson; \u000bmade famous by Ronald Fisher in 1936.\n",
    "- It contains 150 samples (rows) of iris flowers\n",
    "- There are 3 species of iris in the dataset:\n",
    "   1. Iris setosa (50 Samples)\n",
    "   2. Iris versicolor (50 Samples)\n",
    "   3. Iris virginica (50 Samples)\n",
    "- Each sample has 4 features (numeric measurements):\n",
    "  1. Sepal length (cm)\n",
    "  2. Sepal width (cm)\n",
    "  3. Petal length (cm)\n",
    "  4. Petal width (cm)\n"
   ]
  },
  {
   "cell_type": "markdown",
   "id": "40af0c73",
   "metadata": {},
   "source": [
    "# Step 1: Loading the Iris data set in Python in dataframe format"
   ]
  },
  {
   "cell_type": "code",
   "execution_count": 2,
   "id": "70b40c71",
   "metadata": {
    "execution": {
     "iopub.execute_input": "2025-09-10T14:25:25.052008Z",
     "iopub.status.busy": "2025-09-10T14:25:25.051177Z",
     "iopub.status.idle": "2025-09-10T14:25:27.311778Z",
     "shell.execute_reply": "2025-09-10T14:25:27.310577Z"
    }
   },
   "outputs": [
    {
     "data": {
      "text/html": [
       "<div>\n",
       "<style scoped>\n",
       "    .dataframe tbody tr th:only-of-type {\n",
       "        vertical-align: middle;\n",
       "    }\n",
       "\n",
       "    .dataframe tbody tr th {\n",
       "        vertical-align: top;\n",
       "    }\n",
       "\n",
       "    .dataframe thead th {\n",
       "        text-align: right;\n",
       "    }\n",
       "</style>\n",
       "<table border=\"1\" class=\"dataframe\">\n",
       "  <thead>\n",
       "    <tr style=\"text-align: right;\">\n",
       "      <th></th>\n",
       "      <th>sepal length (cm)</th>\n",
       "      <th>sepal width (cm)</th>\n",
       "      <th>petal length (cm)</th>\n",
       "      <th>petal width (cm)</th>\n",
       "    </tr>\n",
       "  </thead>\n",
       "  <tbody>\n",
       "    <tr>\n",
       "      <th>0</th>\n",
       "      <td>6.1</td>\n",
       "      <td>2.8</td>\n",
       "      <td>4.7</td>\n",
       "      <td>1.2</td>\n",
       "    </tr>\n",
       "    <tr>\n",
       "      <th>1</th>\n",
       "      <td>5.7</td>\n",
       "      <td>3.8</td>\n",
       "      <td>1.7</td>\n",
       "      <td>0.3</td>\n",
       "    </tr>\n",
       "    <tr>\n",
       "      <th>2</th>\n",
       "      <td>7.7</td>\n",
       "      <td>2.6</td>\n",
       "      <td>6.9</td>\n",
       "      <td>2.3</td>\n",
       "    </tr>\n",
       "    <tr>\n",
       "      <th>3</th>\n",
       "      <td>6.0</td>\n",
       "      <td>2.9</td>\n",
       "      <td>4.5</td>\n",
       "      <td>1.5</td>\n",
       "    </tr>\n",
       "    <tr>\n",
       "      <th>4</th>\n",
       "      <td>6.8</td>\n",
       "      <td>2.8</td>\n",
       "      <td>4.8</td>\n",
       "      <td>1.4</td>\n",
       "    </tr>\n",
       "  </tbody>\n",
       "</table>\n",
       "</div>"
      ],
      "text/plain": [
       "   sepal length (cm)  sepal width (cm)  petal length (cm)  petal width (cm)\n",
       "0                6.1               2.8                4.7               1.2\n",
       "1                5.7               3.8                1.7               0.3\n",
       "2                7.7               2.6                6.9               2.3\n",
       "3                6.0               2.9                4.5               1.5\n",
       "4                6.8               2.8                4.8               1.4"
      ]
     },
     "execution_count": 2,
     "metadata": {},
     "output_type": "execute_result"
    }
   ],
   "source": [
    "from sklearn.datasets import load_iris\n",
    "import pandas as pd\n",
    "import seaborn as sns\n",
    "import matplotlib.pyplot as plt\n",
    "\n",
    "iris = load_iris()\n",
    "data = pd.DataFrame(iris.data, columns=iris.feature_names)\n",
    "data = data.sample(frac=1, random_state=42).reset_index(drop=True)\n",
    "data.head()\n",
    "#data.describe()\n",
    "#data.info()"
   ]
  },
  {
   "cell_type": "markdown",
   "id": "52d19943",
   "metadata": {},
   "source": [
    "## 3. Build a simple VAE\n",
    "This VAE has two main parts: an encoder that compresses the data and a decoder that rebuilds it."
   ]
  },
  {
   "cell_type": "code",
   "execution_count": 24,
   "id": "fd04531b",
   "metadata": {
    "execution": {
     "iopub.execute_input": "2025-09-10T14:25:27.315019Z",
     "iopub.status.busy": "2025-09-10T14:25:27.314479Z",
     "iopub.status.idle": "2025-09-10T14:25:31.000375Z",
     "shell.execute_reply": "2025-09-10T14:25:30.999207Z"
    }
   },
   "outputs": [],
   "source": [
    "import torch\n",
    "from torch import nn\n",
    "\n",
    "class VAE(nn.Module):\n",
    "    def __init__(self, input_dim, latent_dim=2):\n",
    "        super().__init__()\n",
    "\n",
    "        # Encoder networks consist of two linear layers with ReLU activations\n",
    "        self.encoder = nn.Sequential(\n",
    "            nn.Linear(input_dim, 8),\n",
    "            nn.ReLU(),\n",
    "            nn.Linear(8, latent_dim*2)\n",
    "        )\n",
    "        # Decoder networks consist of two linear layers with ReLU activations\n",
    "        self.decoder = nn.Sequential(\n",
    "            nn.Linear(latent_dim, 8),\n",
    "            nn.ReLU(),\n",
    "            nn.Linear(8, input_dim)\n",
    "        )\n",
    "\n",
    "    def encode(self, x):\n",
    "        h = self.encoder(x)\n",
    "        mu, logvar = h.chunk(2, dim=1)\n",
    "        return mu, logvar\n",
    "    \n",
    "    # Reparameterization trick to sample from N(mu, var) from N(0,1)\n",
    "\n",
    "    def reparameterize(self, mu, logvar):\n",
    "        std = (0.5*logvar).exp()\n",
    "        eps = torch.randn_like(std)\n",
    "        return mu + eps*std\n",
    "\n",
    "    def decode(self, z):\n",
    "        return self.decoder(z)\n",
    "# Complete forward pass\n",
    "    def forward(self, x):\n",
    "        mu, logvar = self.encode(x)\n",
    "        z = self.reparameterize(mu, logvar)\n",
    "        recon = self.decode(z)\n",
    "        return recon, mu, logvar\n"
   ]
  },
  {
   "cell_type": "code",
   "execution_count": 25,
   "id": "895d66d7",
   "metadata": {},
   "outputs": [
    {
     "data": {
      "text/plain": [
       "__main__.VAE"
      ]
     },
     "execution_count": 25,
     "metadata": {},
     "output_type": "execute_result"
    }
   ],
   "source": [
    "VAE"
   ]
  },
  {
   "cell_type": "markdown",
   "id": "05780585",
   "metadata": {},
   "source": [
    "## 4. Train the model\n",
    "We'll train for just a few epochs because the dataset is small."
   ]
  },
  {
   "cell_type": "code",
   "execution_count": 26,
   "id": "b0846143",
   "metadata": {
    "execution": {
     "iopub.execute_input": "2025-09-10T14:25:31.005876Z",
     "iopub.status.busy": "2025-09-10T14:25:31.005489Z",
     "iopub.status.idle": "2025-09-10T14:25:33.906290Z",
     "shell.execute_reply": "2025-09-10T14:25:33.905020Z"
    }
   },
   "outputs": [
    {
     "name": "stdout",
     "output_type": "stream",
     "text": [
      "Epoch 0: loss=10.4320\n",
      "Epoch 10: loss=1.3523\n"
     ]
    }
   ],
   "source": [
    "import torch\n",
    "from torch.utils.data import DataLoader, TensorDataset\n",
    "\n",
    "X = torch.tensor(data.values, dtype=torch.float32)\n",
    "dataset = TensorDataset(X)\n",
    "loader = DataLoader(dataset, batch_size=16, shuffle=True)\n",
    "\n",
    "model = VAE(input_dim=X.shape[1])\n",
    "optimizer = torch.optim.Adam(model.parameters(), lr=0.01)\n",
    "\n",
    "for epoch in range(20):\n",
    "    for batch in loader:\n",
    "        batch = batch[0]\n",
    "        recon, mu, logvar = model(batch)\n",
    "        recon_loss = nn.functional.mse_loss(recon, batch)\n",
    "        kl_loss = -0.5 * torch.mean(1 + logvar - mu.pow(2) - logvar.exp())\n",
    "        loss = recon_loss + kl_loss\n",
    "        optimizer.zero_grad()\n",
    "        loss.backward()\n",
    "        optimizer.step()\n",
    "    if epoch % 10 == 0:\n",
    "        print(f'Epoch {epoch}: loss={loss.item():.4f}')\n"
   ]
  },
  {
   "cell_type": "code",
   "execution_count": 27,
   "id": "261b34cd",
   "metadata": {},
   "outputs": [],
   "source": [
    "X = torch.tensor(data.values, dtype=torch.float32)\n",
    "dataset = TensorDataset(X)\n",
    "loader = DataLoader(dataset, batch_size=16, shuffle=True)"
   ]
  },
  {
   "cell_type": "code",
   "execution_count": null,
   "id": "d110e734",
   "metadata": {},
   "outputs": [],
   "source": []
  },
  {
   "cell_type": "markdown",
   "id": "57d5c103",
   "metadata": {},
   "source": [
    "## 5. Generate new synthetic rows\n",
    "After training, we can sample new rows from the model."
   ]
  },
  {
   "cell_type": "code",
   "execution_count": 28,
   "id": "c5d474e2",
   "metadata": {},
   "outputs": [],
   "source": [
    "for batch in loader:\n",
    "    batch = batch[0]\n",
    "    recon, mu, logvar = model(batch)\n",
    "    break"
   ]
  },
  {
   "cell_type": "code",
   "execution_count": 29,
   "id": "0e726954",
   "metadata": {},
   "outputs": [
    {
     "data": {
      "image/png": "[encoded data removed]",
      "text/plain": [
       "<Figure size 640x480 with 2 Axes>"
      ]
     },
     "metadata": {},
     "output_type": "display_data"
    }
   ],
   "source": [
    "embed = model.encode(X)[0].detach().numpy()\n",
    "import matplotlib.pyplot as plt\n",
    "plt.scatter(embed[:, 0], embed[:, 1], c=iris.target)\n",
    "plt.colorbar()\n",
    "plt.title('VAE Latent Space')\n",
    "plt.xlabel('Latent Dimension 1')\n",
    "plt.ylabel('Latent Dimension 2')\n",
    "plt.show()"
   ]
  },
  {
   "cell_type": "code",
   "execution_count": 21,
   "id": "25e4be9e",
   "metadata": {},
   "outputs": [
    {
     "data": {
      "text/plain": [
       "(150, 2)"
      ]
     },
     "execution_count": 21,
     "metadata": {},
     "output_type": "execute_result"
    }
   ],
   "source": [
    "embeddings = embed\n",
    "embeddings.shape"
   ]
  },
  {
   "cell_type": "code",
   "execution_count": 9,
   "id": "b55c3803",
   "metadata": {},
   "outputs": [
    {
     "data": {
      "text/plain": [
       "(torch.Size([16, 4]), torch.Size([16, 2]), torch.Size([16, 2]))"
      ]
     },
     "execution_count": 9,
     "metadata": {},
     "output_type": "execute_result"
    }
   ],
   "source": [
    "recon.shape, mu.shape, logvar.shape\n"
   ]
  },
  {
   "cell_type": "code",
   "execution_count": 10,
   "id": "1f41bda1",
   "metadata": {
    "execution": {
     "iopub.execute_input": "2025-09-10T14:25:33.910177Z",
     "iopub.status.busy": "2025-09-10T14:25:33.909554Z",
     "iopub.status.idle": "2025-09-10T14:25:33.924219Z",
     "shell.execute_reply": "2025-09-10T14:25:33.923299Z"
    }
   },
   "outputs": [
    {
     "data": {
      "text/html": [
       "<div>\n",
       "<style scoped>\n",
       "    .dataframe tbody tr th:only-of-type {\n",
       "        vertical-align: middle;\n",
       "    }\n",
       "\n",
       "    .dataframe tbody tr th {\n",
       "        vertical-align: top;\n",
       "    }\n",
       "\n",
       "    .dataframe thead th {\n",
       "        text-align: right;\n",
       "    }\n",
       "</style>\n",
       "<table border=\"1\" class=\"dataframe\">\n",
       "  <thead>\n",
       "    <tr style=\"text-align: right;\">\n",
       "      <th></th>\n",
       "      <th>sepal length (cm)</th>\n",
       "      <th>sepal width (cm)</th>\n",
       "      <th>petal length (cm)</th>\n",
       "      <th>petal width (cm)</th>\n",
       "    </tr>\n",
       "  </thead>\n",
       "  <tbody>\n",
       "    <tr>\n",
       "      <th>0</th>\n",
       "      <td>5.598851</td>\n",
       "      <td>2.990350</td>\n",
       "      <td>3.345705</td>\n",
       "      <td>0.999639</td>\n",
       "    </tr>\n",
       "    <tr>\n",
       "      <th>1</th>\n",
       "      <td>4.826360</td>\n",
       "      <td>3.237715</td>\n",
       "      <td>1.411385</td>\n",
       "      <td>0.219523</td>\n",
       "    </tr>\n",
       "    <tr>\n",
       "      <th>2</th>\n",
       "      <td>5.808877</td>\n",
       "      <td>3.480963</td>\n",
       "      <td>3.268642</td>\n",
       "      <td>1.016805</td>\n",
       "    </tr>\n",
       "    <tr>\n",
       "      <th>3</th>\n",
       "      <td>5.982934</td>\n",
       "      <td>2.966524</td>\n",
       "      <td>4.245313</td>\n",
       "      <td>1.403739</td>\n",
       "    </tr>\n",
       "    <tr>\n",
       "      <th>4</th>\n",
       "      <td>6.233807</td>\n",
       "      <td>2.921206</td>\n",
       "      <td>4.751705</td>\n",
       "      <td>1.584693</td>\n",
       "    </tr>\n",
       "  </tbody>\n",
       "</table>\n",
       "</div>"
      ],
      "text/plain": [
       "   sepal length (cm)  sepal width (cm)  petal length (cm)  petal width (cm)\n",
       "0           5.598851          2.990350           3.345705          0.999639\n",
       "1           4.826360          3.237715           1.411385          0.219523\n",
       "2           5.808877          3.480963           3.268642          1.016805\n",
       "3           5.982934          2.966524           4.245313          1.403739\n",
       "4           6.233807          2.921206           4.751705          1.584693"
      ]
     },
     "execution_count": 10,
     "metadata": {},
     "output_type": "execute_result"
    }
   ],
   "source": [
    "with torch.no_grad():\n",
    "    z = torch.randn(5, 2)\n",
    "    synthetic = model.decode(z).numpy()\n",
    "synthetic_df = pd.DataFrame(synthetic, columns=iris.feature_names)\n",
    "synthetic_df\n"
   ]
  },
  {
   "cell_type": "code",
   "execution_count": null,
   "id": "e03a9549",
   "metadata": {},
   "outputs": [
    {
     "name": "stdout",
     "output_type": "stream",
     "text": [
      "  STUDYID USUBJID  BW_d1  BW_d7  BW_d14  BW_d21  BW_d28  LB_Eosinophils_L  \\\n",
      "0       1  1-1001  236.0  298.0   353.0   400.0   416.0              0.20   \n",
      "1       1  1-1002  199.0  253.0   302.0   347.0   369.0              0.12   \n",
      "2       1  1-1003  246.0  315.0   372.0   428.0   455.0              0.08   \n",
      "3       1  1-1005  302.0  358.0   406.0   468.0   499.0              0.10   \n",
      "4       1  1-1006  273.0  322.0   350.0   387.0   408.0              0.06   \n",
      "\n",
      "   LB_Erythrocytes_L  LB_HCT_BLOOD  ...  OM_SPLEEN  OM_LIVER  OM_HEART  \\\n",
      "0               7.55          44.2  ...      0.986    15.120     1.357   \n",
      "1               8.31          48.2  ...      0.704    12.451     1.333   \n",
      "2               8.38          47.5  ...      0.757    16.138     1.396   \n",
      "3               8.08          47.3  ...      0.831    18.750     1.633   \n",
      "4               9.20          52.2  ...      0.881    13.054     1.441   \n",
      "\n",
      "           STRAIN  SEX  YEAR        ROUTE  GLPFL  TRTVCAT  COMPANY  \n",
      "0  SPRAGUE DAWLEY    M  2020  ORAL GAVAGE      Y  AQUEOUS    OTHER  \n",
      "1  SPRAGUE DAWLEY    M  2020  ORAL GAVAGE      Y  AQUEOUS    OTHER  \n",
      "2  SPRAGUE DAWLEY    M  2020  ORAL GAVAGE      Y  AQUEOUS    OTHER  \n",
      "3  SPRAGUE DAWLEY    M  2020  ORAL GAVAGE      Y  AQUEOUS    OTHER  \n",
      "4  SPRAGUE DAWLEY    M  2020  ORAL GAVAGE      Y  AQUEOUS    OTHER  \n",
      "\n",
      "[5 rows x 31 columns]\n"
     ]
    }
   ],
   "source": []
  },
  {
   "cell_type": "code",
   "execution_count": 22,
   "id": "9c02abad",
   "metadata": {},
   "outputs": [
    {
     "name": "stdout",
     "output_type": "stream",
     "text": [
      "<class 'pandas.core.frame.DataFrame'>\n",
      "RangeIndex: 2362 entries, 0 to 2361\n",
      "Data columns (total 31 columns):\n",
      " #   Column             Non-Null Count  Dtype  \n",
      "---  ------             --------------  -----  \n",
      " 0   STUDYID            2362 non-null   object \n",
      " 1   USUBJID            2362 non-null   object \n",
      " 2   BW_d1              2362 non-null   float64\n",
      " 3   BW_d7              2362 non-null   float64\n",
      " 4   BW_d14             2362 non-null   float64\n",
      " 5   BW_d21             2362 non-null   float64\n",
      " 6   BW_d28             2362 non-null   float64\n",
      " 7   LB_Eosinophils_L   2362 non-null   float64\n",
      " 8   LB_Erythrocytes_L  2362 non-null   float64\n",
      " 9   LB_HCT_BLOOD       2362 non-null   float64\n",
      " 10  LB_Hemoglobin_L    2362 non-null   float64\n",
      " 11  LB_Lymphocytes_L   2362 non-null   float64\n",
      " 12  LB_MCHC_L          2362 non-null   float64\n",
      " 13  LB_MCH_fmol        2362 non-null   float64\n",
      " 14  LB_MCV_fL          2362 non-null   float64\n",
      " 15  LB_Monocytes_L     2362 non-null   float64\n",
      " 16  LB_Platelets_L     2362 non-null   float64\n",
      " 17  OM_BRAIN           2362 non-null   float64\n",
      " 18  OM_THYMUS          2362 non-null   float64\n",
      " 19  OM_GLAND_ADRENAL   2362 non-null   float64\n",
      " 20  OM_KIDNEY          2362 non-null   float64\n",
      " 21  OM_SPLEEN          2362 non-null   float64\n",
      " 22  OM_LIVER           2362 non-null   float64\n",
      " 23  OM_HEART           2362 non-null   float64\n",
      " 24  STRAIN             2362 non-null   object \n",
      " 25  SEX                2362 non-null   object \n",
      " 26  YEAR               2362 non-null   int64  \n",
      " 27  ROUTE              2362 non-null   object \n",
      " 28  GLPFL              2362 non-null   object \n",
      " 29  TRTVCAT            2362 non-null   object \n",
      " 30  COMPANY            2362 non-null   object \n",
      "dtypes: float64(22), int64(1), object(8)\n",
      "memory usage: 572.2+ KB\n"
     ]
    }
   ],
   "source": [
    "df.info()"
   ]
  },
  {
   "cell_type": "markdown",
   "id": "17dda015",
   "metadata": {},
   "source": [
    "You're now ready to adapt this notebook to your own tables. Replace the dataset loading step with your data and retrain the model."
   ]
  }
 ],
 "metadata": {
  "kernelspec": {
   "display_name": "deeplearning",
   "language": "python",
   "name": "python3"
  },
  "language_info": {
   "codemirror_mode": {
    "name": "ipython",
    "version": 3
   },
   "file_extension": ".py",
   "mimetype": "text/x-python",
   "name": "python",
   "nbconvert_exporter": "python",
   "pygments_lexer": "ipython3",
   "version": "3.12.11"
  }
 },
 "nbformat": 4,
 "nbformat_minor": 5
}
